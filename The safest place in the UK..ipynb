{
 "metadata": {
  "name": ""
 },
 "nbformat": 3,
 "nbformat_minor": 0,
 "worksheets": [
  {
   "cells": [
    {
     "cell_type": "heading",
     "level": 1,
     "metadata": {},
     "source": [
      "The safest place in the UK. "
     ]
    },
    {
     "cell_type": "raw",
     "metadata": {},
     "source": [
      "I create this notebook to just teach myself how to use pandas. I pick this problem because I think it's quite interesting as I'm a foreigner in this country and I would like to find a safe place to stay anyway. A lot of staff I'm doing here is very basic cause I'm still learning it."
     ]
    },
    {
     "cell_type": "raw",
     "metadata": {},
     "source": [
      "I use dataset from http://data.police.uk/data/. You can tick and choose the range of data you want and download the zip file. Once you extracted the file you will see data catagorised in date and each file for each area. It's quite difficult to work with multiple files, so I will merge into just one csv file. You can run this command which I use my little skill in shell script."
     ]
    },
    {
     "cell_type": "code",
     "collapsed": false,
     "input": [
      "!sh merged.sh dataset"
     ],
     "language": "python",
     "metadata": {},
     "outputs": [
      {
       "output_type": "stream",
       "stream": "stdout",
       "text": [
        "\r\n",
        "/Users/ncharass/MyProject/safest-place-in-the-uk/dataset:\r\n",
        "\r\n",
        "/Users/ncharass/MyProject/safest-place-in-the-uk/dataset/2013-01:\r\n",
        "/Users/ncharass/MyProject/safest-place-in-the-uk/dataset/2013-01/2013-01-avon-and-somerset-street.csv\r\n"
       ]
      },
      {
       "output_type": "stream",
       "stream": "stdout",
       "text": [
        "/Users/ncharass/MyProject/safest-place-in-the-uk/dataset/2013-01/2013-01-bedfordshire-street.csv\r\n"
       ]
      },
      {
       "output_type": "stream",
       "stream": "stdout",
       "text": [
        "/Users/ncharass/MyProject/safest-place-in-the-uk/dataset/2013-01/2013-01-btp-street.csv\r\n",
        "/Users/ncharass/MyProject/safest-place-in-the-uk/dataset/2013-01/2013-01-cambridgeshire-street.csv\r\n"
       ]
      },
      {
       "output_type": "stream",
       "stream": "stdout",
       "text": [
        "/Users/ncharass/MyProject/safest-place-in-the-uk/dataset/2013-01/2013-01-cheshire-street.csv\r\n"
       ]
      },
      {
       "output_type": "stream",
       "stream": "stdout",
       "text": [
        "/Users/ncharass/MyProject/safest-place-in-the-uk/dataset/2013-01/2013-01-city-of-london-street.csv\r\n",
        "/Users/ncharass/MyProject/safest-place-in-the-uk/dataset/2013-01/2013-01-cleveland-street.csv\r\n"
       ]
      },
      {
       "output_type": "stream",
       "stream": "stdout",
       "text": [
        "/Users/ncharass/MyProject/safest-place-in-the-uk/dataset/2013-01/2013-01-cumbria-street.csv\r\n",
        "/Users/ncharass/MyProject/safest-place-in-the-uk/dataset/2013-01/2013-01-derbyshire-street.csv\r\n"
       ]
      },
      {
       "output_type": "stream",
       "stream": "stdout",
       "text": [
        "/Users/ncharass/MyProject/safest-place-in-the-uk/dataset/2013-01/2013-01-devon-and-cornwall-street.csv\r\n"
       ]
      },
      {
       "output_type": "stream",
       "stream": "stdout",
       "text": [
        "/Users/ncharass/MyProject/safest-place-in-the-uk/dataset/2013-01/2013-01-dorset-street.csv\r\n",
        "/Users/ncharass/MyProject/safest-place-in-the-uk/dataset/2013-01/2013-01-durham-street.csv\r\n"
       ]
      },
      {
       "output_type": "stream",
       "stream": "stdout",
       "text": [
        "/Users/ncharass/MyProject/safest-place-in-the-uk/dataset/2013-01/2013-01-dyfed-powys-street.csv\r\n",
        "/Users/ncharass/MyProject/safest-place-in-the-uk/dataset/2013-01/2013-01-essex-street.csv\r\n"
       ]
      },
      {
       "output_type": "stream",
       "stream": "stdout",
       "text": [
        "/Users/ncharass/MyProject/safest-place-in-the-uk/dataset/2013-01/2013-01-gloucestershire-street.csv\r\n"
       ]
      },
      {
       "output_type": "stream",
       "stream": "stdout",
       "text": [
        "/Users/ncharass/MyProject/safest-place-in-the-uk/dataset/2013-01/2013-01-greater-manchester-street.csv\r\n"
       ]
      },
      {
       "output_type": "stream",
       "stream": "stdout",
       "text": [
        "/Users/ncharass/MyProject/safest-place-in-the-uk/dataset/2013-01/2013-01-gwent-street.csv\r\n",
        "/Users/ncharass/MyProject/safest-place-in-the-uk/dataset/2013-01/2013-01-hampshire-street.csv\r\n"
       ]
      },
      {
       "output_type": "stream",
       "stream": "stdout",
       "text": [
        "/Users/ncharass/MyProject/safest-place-in-the-uk/dataset/2013-01/2013-01-hertfordshire-street.csv\r\n",
        "/Users/ncharass/MyProject/safest-place-in-the-uk/dataset/2013-01/2013-01-humberside-street.csv\r\n"
       ]
      },
      {
       "output_type": "stream",
       "stream": "stdout",
       "text": [
        "/Users/ncharass/MyProject/safest-place-in-the-uk/dataset/2013-01/2013-01-kent-street.csv\r\n"
       ]
      },
      {
       "output_type": "stream",
       "stream": "stdout",
       "text": [
        "/Users/ncharass/MyProject/safest-place-in-the-uk/dataset/2013-01/2013-01-lancashire-street.csv\r\n"
       ]
      },
      {
       "output_type": "stream",
       "stream": "stdout",
       "text": [
        "/Users/ncharass/MyProject/safest-place-in-the-uk/dataset/2013-01/2013-01-leicestershire-street.csv\r\n"
       ]
      },
      {
       "output_type": "stream",
       "stream": "stdout",
       "text": [
        "/Users/ncharass/MyProject/safest-place-in-the-uk/dataset/2013-01/2013-01-lincolnshire-street.csv\r\n",
        "/Users/ncharass/MyProject/safest-place-in-the-uk/dataset/2013-01/2013-01-merseyside-street.csv\r\n"
       ]
      },
      {
       "output_type": "stream",
       "stream": "stdout",
       "text": [
        "/Users/ncharass/MyProject/safest-place-in-the-uk/dataset/2013-01/2013-01-metropolitan-street.csv\r\n"
       ]
      },
      {
       "output_type": "stream",
       "stream": "stdout",
       "text": [
        "/Users/ncharass/MyProject/safest-place-in-the-uk/dataset/2013-01/2013-01-norfolk-street.csv\r\n",
        "/Users/ncharass/MyProject/safest-place-in-the-uk/dataset/2013-01/2013-01-north-wales-street.csv\r\n"
       ]
      },
      {
       "output_type": "stream",
       "stream": "stdout",
       "text": [
        "/Users/ncharass/MyProject/safest-place-in-the-uk/dataset/2013-01/2013-01-north-yorkshire-street.csv\r\n"
       ]
      },
      {
       "output_type": "stream",
       "stream": "stdout",
       "text": [
        "/Users/ncharass/MyProject/safest-place-in-the-uk/dataset/2013-01/2013-01-northamptonshire-street.csv\r\n",
        "/Users/ncharass/MyProject/safest-place-in-the-uk/dataset/2013-01/2013-01-northern-ireland-street.csv\r\n"
       ]
      },
      {
       "output_type": "stream",
       "stream": "stdout",
       "text": [
        "/Users/ncharass/MyProject/safest-place-in-the-uk/dataset/2013-01/2013-01-northumbria-street.csv\r\n"
       ]
      },
      {
       "output_type": "stream",
       "stream": "stdout",
       "text": [
        "/Users/ncharass/MyProject/safest-place-in-the-uk/dataset/2013-01/2013-01-nottinghamshire-street.csv\r\n"
       ]
      },
      {
       "output_type": "stream",
       "stream": "stdout",
       "text": [
        "/Users/ncharass/MyProject/safest-place-in-the-uk/dataset/2013-01/2013-01-south-wales-street.csv\r\n"
       ]
      },
      {
       "output_type": "stream",
       "stream": "stdout",
       "text": [
        "/Users/ncharass/MyProject/safest-place-in-the-uk/dataset/2013-01/2013-01-south-yorkshire-street.csv\r\n"
       ]
      },
      {
       "output_type": "stream",
       "stream": "stdout",
       "text": [
        "/Users/ncharass/MyProject/safest-place-in-the-uk/dataset/2013-01/2013-01-staffordshire-street.csv\r\n"
       ]
      },
      {
       "output_type": "stream",
       "stream": "stdout",
       "text": [
        "/Users/ncharass/MyProject/safest-place-in-the-uk/dataset/2013-01/2013-01-suffolk-street.csv\r\n",
        "/Users/ncharass/MyProject/safest-place-in-the-uk/dataset/2013-01/2013-01-surrey-street.csv\r\n"
       ]
      },
      {
       "output_type": "stream",
       "stream": "stdout",
       "text": [
        "/Users/ncharass/MyProject/safest-place-in-the-uk/dataset/2013-01/2013-01-sussex-street.csv\r\n"
       ]
      },
      {
       "output_type": "stream",
       "stream": "stdout",
       "text": [
        "/Users/ncharass/MyProject/safest-place-in-the-uk/dataset/2013-01/2013-01-thames-valley-street.csv\r\n"
       ]
      },
      {
       "output_type": "stream",
       "stream": "stdout",
       "text": [
        "/Users/ncharass/MyProject/safest-place-in-the-uk/dataset/2013-01/2013-01-warwickshire-street.csv\r\n",
        "/Users/ncharass/MyProject/safest-place-in-the-uk/dataset/2013-01/2013-01-west-mercia-street.csv\r\n"
       ]
      },
      {
       "output_type": "stream",
       "stream": "stdout",
       "text": [
        "/Users/ncharass/MyProject/safest-place-in-the-uk/dataset/2013-01/2013-01-west-midlands-street.csv\r\n"
       ]
      },
      {
       "output_type": "stream",
       "stream": "stdout",
       "text": [
        "/Users/ncharass/MyProject/safest-place-in-the-uk/dataset/2013-01/2013-01-west-yorkshire-street.csv\r\n"
       ]
      },
      {
       "output_type": "stream",
       "stream": "stdout",
       "text": [
        "/Users/ncharass/MyProject/safest-place-in-the-uk/dataset/2013-01/2013-01-wiltshire-street.csv\r\n",
        "\r\n",
        "/Users/ncharass/MyProject/safest-place-in-the-uk/dataset/2013-02:\r\n"
       ]
      },
      {
       "output_type": "stream",
       "stream": "stdout",
       "text": [
        "/Users/ncharass/MyProject/safest-place-in-the-uk/dataset/2013-02/2013-02-avon-and-somerset-street.csv\r\n"
       ]
      },
      {
       "output_type": "stream",
       "stream": "stdout",
       "text": [
        "/Users/ncharass/MyProject/safest-place-in-the-uk/dataset/2013-02/2013-02-bedfordshire-street.csv\r\n",
        "/Users/ncharass/MyProject/safest-place-in-the-uk/dataset/2013-02/2013-02-btp-street.csv\r\n"
       ]
      },
      {
       "output_type": "stream",
       "stream": "stdout",
       "text": [
        "/Users/ncharass/MyProject/safest-place-in-the-uk/dataset/2013-02/2013-02-cambridgeshire-street.csv\r\n",
        "/Users/ncharass/MyProject/safest-place-in-the-uk/dataset/2013-02/2013-02-cheshire-street.csv\r\n"
       ]
      },
      {
       "output_type": "stream",
       "stream": "stdout",
       "text": [
        "/Users/ncharass/MyProject/safest-place-in-the-uk/dataset/2013-02/2013-02-city-of-london-street.csv\r\n",
        "/Users/ncharass/MyProject/safest-place-in-the-uk/dataset/2013-02/2013-02-cleveland-street.csv\r\n"
       ]
      },
      {
       "output_type": "stream",
       "stream": "stdout",
       "text": [
        "/Users/ncharass/MyProject/safest-place-in-the-uk/dataset/2013-02/2013-02-cumbria-street.csv\r\n",
        "/Users/ncharass/MyProject/safest-place-in-the-uk/dataset/2013-02/2013-02-derbyshire-street.csv\r\n"
       ]
      },
      {
       "output_type": "stream",
       "stream": "stdout",
       "text": [
        "/Users/ncharass/MyProject/safest-place-in-the-uk/dataset/2013-02/2013-02-devon-and-cornwall-street.csv\r\n"
       ]
      },
      {
       "output_type": "stream",
       "stream": "stdout",
       "text": [
        "/Users/ncharass/MyProject/safest-place-in-the-uk/dataset/2013-02/2013-02-dorset-street.csv\r\n"
       ]
      },
      {
       "output_type": "stream",
       "stream": "stdout",
       "text": [
        "/Users/ncharass/MyProject/safest-place-in-the-uk/dataset/2013-02/2013-02-durham-street.csv\r\n",
        "/Users/ncharass/MyProject/safest-place-in-the-uk/dataset/2013-02/2013-02-dyfed-powys-street.csv\r\n"
       ]
      },
      {
       "output_type": "stream",
       "stream": "stdout",
       "text": [
        "/Users/ncharass/MyProject/safest-place-in-the-uk/dataset/2013-02/2013-02-essex-street.csv\r\n"
       ]
      },
      {
       "output_type": "stream",
       "stream": "stdout",
       "text": [
        "/Users/ncharass/MyProject/safest-place-in-the-uk/dataset/2013-02/2013-02-gloucestershire-street.csv\r\n",
        "/Users/ncharass/MyProject/safest-place-in-the-uk/dataset/2013-02/2013-02-greater-manchester-street.csv\r\n"
       ]
      },
      {
       "output_type": "stream",
       "stream": "stdout",
       "text": [
        "/Users/ncharass/MyProject/safest-place-in-the-uk/dataset/2013-02/2013-02-gwent-street.csv\r\n",
        "/Users/ncharass/MyProject/safest-place-in-the-uk/dataset/2013-02/2013-02-hampshire-street.csv\r\n"
       ]
      },
      {
       "output_type": "stream",
       "stream": "stdout",
       "text": [
        "/Users/ncharass/MyProject/safest-place-in-the-uk/dataset/2013-02/2013-02-hertfordshire-street.csv\r\n"
       ]
      },
      {
       "output_type": "stream",
       "stream": "stdout",
       "text": [
        "/Users/ncharass/MyProject/safest-place-in-the-uk/dataset/2013-02/2013-02-humberside-street.csv\r\n"
       ]
      },
      {
       "output_type": "stream",
       "stream": "stdout",
       "text": [
        "/Users/ncharass/MyProject/safest-place-in-the-uk/dataset/2013-02/2013-02-kent-street.csv\r\n"
       ]
      },
      {
       "output_type": "stream",
       "stream": "stdout",
       "text": [
        "/Users/ncharass/MyProject/safest-place-in-the-uk/dataset/2013-02/2013-02-lancashire-street.csv\r\n"
       ]
      },
      {
       "output_type": "stream",
       "stream": "stdout",
       "text": [
        "/Users/ncharass/MyProject/safest-place-in-the-uk/dataset/2013-02/2013-02-leicestershire-street.csv\r\n"
       ]
      },
      {
       "output_type": "stream",
       "stream": "stdout",
       "text": [
        "/Users/ncharass/MyProject/safest-place-in-the-uk/dataset/2013-02/2013-02-lincolnshire-street.csv\r\n",
        "/Users/ncharass/MyProject/safest-place-in-the-uk/dataset/2013-02/2013-02-merseyside-street.csv\r\n"
       ]
      },
      {
       "output_type": "stream",
       "stream": "stdout",
       "text": [
        "/Users/ncharass/MyProject/safest-place-in-the-uk/dataset/2013-02/2013-02-metropolitan-street.csv\r\n"
       ]
      },
      {
       "output_type": "stream",
       "stream": "stdout",
       "text": [
        "/Users/ncharass/MyProject/safest-place-in-the-uk/dataset/2013-02/2013-02-norfolk-street.csv\r\n",
        "/Users/ncharass/MyProject/safest-place-in-the-uk/dataset/2013-02/2013-02-north-wales-street.csv\r\n"
       ]
      },
      {
       "output_type": "stream",
       "stream": "stdout",
       "text": [
        "/Users/ncharass/MyProject/safest-place-in-the-uk/dataset/2013-02/2013-02-north-yorkshire-street.csv\r\n",
        "/Users/ncharass/MyProject/safest-place-in-the-uk/dataset/2013-02/2013-02-northamptonshire-street.csv\r\n"
       ]
      },
      {
       "output_type": "stream",
       "stream": "stdout",
       "text": [
        "/Users/ncharass/MyProject/safest-place-in-the-uk/dataset/2013-02/2013-02-northern-ireland-street.csv\r\n"
       ]
      },
      {
       "output_type": "stream",
       "stream": "stdout",
       "text": [
        "/Users/ncharass/MyProject/safest-place-in-the-uk/dataset/2013-02/2013-02-northumbria-street.csv\r\n"
       ]
      },
      {
       "output_type": "stream",
       "stream": "stdout",
       "text": [
        "/Users/ncharass/MyProject/safest-place-in-the-uk/dataset/2013-02/2013-02-nottinghamshire-street.csv\r\n"
       ]
      },
      {
       "output_type": "stream",
       "stream": "stdout",
       "text": [
        "/Users/ncharass/MyProject/safest-place-in-the-uk/dataset/2013-02/2013-02-south-wales-street.csv\r\n"
       ]
      },
      {
       "output_type": "stream",
       "stream": "stdout",
       "text": [
        "/Users/ncharass/MyProject/safest-place-in-the-uk/dataset/2013-02/2013-02-south-yorkshire-street.csv\r\n"
       ]
      },
      {
       "output_type": "stream",
       "stream": "stdout",
       "text": [
        "/Users/ncharass/MyProject/safest-place-in-the-uk/dataset/2013-02/2013-02-staffordshire-street.csv\r\n"
       ]
      },
      {
       "output_type": "stream",
       "stream": "stdout",
       "text": [
        "/Users/ncharass/MyProject/safest-place-in-the-uk/dataset/2013-02/2013-02-suffolk-street.csv\r\n",
        "/Users/ncharass/MyProject/safest-place-in-the-uk/dataset/2013-02/2013-02-surrey-street.csv\r\n"
       ]
      },
      {
       "output_type": "stream",
       "stream": "stdout",
       "text": [
        "/Users/ncharass/MyProject/safest-place-in-the-uk/dataset/2013-02/2013-02-sussex-street.csv\r\n"
       ]
      },
      {
       "output_type": "stream",
       "stream": "stdout",
       "text": [
        "/Users/ncharass/MyProject/safest-place-in-the-uk/dataset/2013-02/2013-02-thames-valley-street.csv\r\n"
       ]
      },
      {
       "output_type": "stream",
       "stream": "stdout",
       "text": [
        "/Users/ncharass/MyProject/safest-place-in-the-uk/dataset/2013-02/2013-02-warwickshire-street.csv\r\n",
        "/Users/ncharass/MyProject/safest-place-in-the-uk/dataset/2013-02/2013-02-west-mercia-street.csv\r\n"
       ]
      },
      {
       "output_type": "stream",
       "stream": "stdout",
       "text": [
        "/Users/ncharass/MyProject/safest-place-in-the-uk/dataset/2013-02/2013-02-west-midlands-street.csv\r\n"
       ]
      },
      {
       "output_type": "stream",
       "stream": "stdout",
       "text": [
        "/Users/ncharass/MyProject/safest-place-in-the-uk/dataset/2013-02/2013-02-west-yorkshire-street.csv\r\n"
       ]
      },
      {
       "output_type": "stream",
       "stream": "stdout",
       "text": [
        "/Users/ncharass/MyProject/safest-place-in-the-uk/dataset/2013-02/2013-02-wiltshire-street.csv\r\n"
       ]
      },
      {
       "output_type": "stream",
       "stream": "stdout",
       "text": [
        "\r\n",
        "/Users/ncharass/MyProject/safest-place-in-the-uk/dataset/2013-03:\r\n",
        "/Users/ncharass/MyProject/safest-place-in-the-uk/dataset/2013-03/2013-03-avon-and-somerset-street.csv\r\n"
       ]
      },
      {
       "output_type": "stream",
       "stream": "stdout",
       "text": [
        "/Users/ncharass/MyProject/safest-place-in-the-uk/dataset/2013-03/2013-03-bedfordshire-street.csv\r\n"
       ]
      },
      {
       "output_type": "stream",
       "stream": "stdout",
       "text": [
        "/Users/ncharass/MyProject/safest-place-in-the-uk/dataset/2013-03/2013-03-btp-street.csv\r\n",
        "/Users/ncharass/MyProject/safest-place-in-the-uk/dataset/2013-03/2013-03-cambridgeshire-street.csv\r\n"
       ]
      },
      {
       "output_type": "stream",
       "stream": "stdout",
       "text": [
        "/Users/ncharass/MyProject/safest-place-in-the-uk/dataset/2013-03/2013-03-cheshire-street.csv\r\n",
        "/Users/ncharass/MyProject/safest-place-in-the-uk/dataset/2013-03/2013-03-city-of-london-street.csv\r\n"
       ]
      },
      {
       "output_type": "stream",
       "stream": "stdout",
       "text": [
        "/Users/ncharass/MyProject/safest-place-in-the-uk/dataset/2013-03/2013-03-cleveland-street.csv\r\n",
        "/Users/ncharass/MyProject/safest-place-in-the-uk/dataset/2013-03/2013-03-cumbria-street.csv\r\n"
       ]
      },
      {
       "output_type": "stream",
       "stream": "stdout",
       "text": [
        "/Users/ncharass/MyProject/safest-place-in-the-uk/dataset/2013-03/2013-03-derbyshire-street.csv\r\n",
        "/Users/ncharass/MyProject/safest-place-in-the-uk/dataset/2013-03/2013-03-devon-and-cornwall-street.csv\r\n"
       ]
      },
      {
       "output_type": "stream",
       "stream": "stdout",
       "text": [
        "/Users/ncharass/MyProject/safest-place-in-the-uk/dataset/2013-03/2013-03-dorset-street.csv\r\n"
       ]
      },
      {
       "output_type": "stream",
       "stream": "stdout",
       "text": [
        "/Users/ncharass/MyProject/safest-place-in-the-uk/dataset/2013-03/2013-03-durham-street.csv\r\n",
        "/Users/ncharass/MyProject/safest-place-in-the-uk/dataset/2013-03/2013-03-dyfed-powys-street.csv\r\n"
       ]
      },
      {
       "output_type": "stream",
       "stream": "stdout",
       "text": [
        "/Users/ncharass/MyProject/safest-place-in-the-uk/dataset/2013-03/2013-03-essex-street.csv\r\n"
       ]
      },
      {
       "output_type": "stream",
       "stream": "stdout",
       "text": [
        "/Users/ncharass/MyProject/safest-place-in-the-uk/dataset/2013-03/2013-03-gloucestershire-street.csv\r\n",
        "/Users/ncharass/MyProject/safest-place-in-the-uk/dataset/2013-03/2013-03-greater-manchester-street.csv\r\n"
       ]
      },
      {
       "output_type": "stream",
       "stream": "stdout",
       "text": [
        "/Users/ncharass/MyProject/safest-place-in-the-uk/dataset/2013-03/2013-03-gwent-street.csv\r\n"
       ]
      },
      {
       "output_type": "stream",
       "stream": "stdout",
       "text": [
        "/Users/ncharass/MyProject/safest-place-in-the-uk/dataset/2013-03/2013-03-hampshire-street.csv\r\n"
       ]
      },
      {
       "output_type": "stream",
       "stream": "stdout",
       "text": [
        "/Users/ncharass/MyProject/safest-place-in-the-uk/dataset/2013-03/2013-03-hertfordshire-street.csv\r\n"
       ]
      },
      {
       "output_type": "stream",
       "stream": "stdout",
       "text": [
        "/Users/ncharass/MyProject/safest-place-in-the-uk/dataset/2013-03/2013-03-humberside-street.csv\r\n"
       ]
      },
      {
       "output_type": "stream",
       "stream": "stdout",
       "text": [
        "/Users/ncharass/MyProject/safest-place-in-the-uk/dataset/2013-03/2013-03-kent-street.csv\r\n"
       ]
      },
      {
       "output_type": "stream",
       "stream": "stdout",
       "text": [
        "/Users/ncharass/MyProject/safest-place-in-the-uk/dataset/2013-03/2013-03-lancashire-street.csv\r\n"
       ]
      },
      {
       "output_type": "stream",
       "stream": "stdout",
       "text": [
        "/Users/ncharass/MyProject/safest-place-in-the-uk/dataset/2013-03/2013-03-leicestershire-street.csv\r\n"
       ]
      },
      {
       "output_type": "stream",
       "stream": "stdout",
       "text": [
        "/Users/ncharass/MyProject/safest-place-in-the-uk/dataset/2013-03/2013-03-lincolnshire-street.csv\r\n"
       ]
      },
      {
       "output_type": "stream",
       "stream": "stdout",
       "text": [
        "/Users/ncharass/MyProject/safest-place-in-the-uk/dataset/2013-03/2013-03-merseyside-street.csv\r\n"
       ]
      },
      {
       "output_type": "stream",
       "stream": "stdout",
       "text": [
        "/Users/ncharass/MyProject/safest-place-in-the-uk/dataset/2013-03/2013-03-metropolitan-street.csv\r\n"
       ]
      },
      {
       "output_type": "stream",
       "stream": "stdout",
       "text": [
        "/Users/ncharass/MyProject/safest-place-in-the-uk/dataset/2013-03/2013-03-norfolk-street.csv\r\n",
        "/Users/ncharass/MyProject/safest-place-in-the-uk/dataset/2013-03/2013-03-north-wales-street.csv\r\n"
       ]
      },
      {
       "output_type": "stream",
       "stream": "stdout",
       "text": [
        "/Users/ncharass/MyProject/safest-place-in-the-uk/dataset/2013-03/2013-03-north-yorkshire-street.csv\r\n"
       ]
      },
      {
       "output_type": "stream",
       "stream": "stdout",
       "text": [
        "/Users/ncharass/MyProject/safest-place-in-the-uk/dataset/2013-03/2013-03-northamptonshire-street.csv\r\n"
       ]
      },
      {
       "output_type": "stream",
       "stream": "stdout",
       "text": [
        "/Users/ncharass/MyProject/safest-place-in-the-uk/dataset/2013-03/2013-03-northern-ireland-street.csv\r\n"
       ]
      },
      {
       "output_type": "stream",
       "stream": "stdout",
       "text": [
        "/Users/ncharass/MyProject/safest-place-in-the-uk/dataset/2013-03/2013-03-northumbria-street.csv\r\n"
       ]
      },
      {
       "output_type": "stream",
       "stream": "stdout",
       "text": [
        "/Users/ncharass/MyProject/safest-place-in-the-uk/dataset/2013-03/2013-03-nottinghamshire-street.csv\r\n"
       ]
      },
      {
       "output_type": "stream",
       "stream": "stdout",
       "text": [
        "/Users/ncharass/MyProject/safest-place-in-the-uk/dataset/2013-03/2013-03-south-wales-street.csv\r\n"
       ]
      },
      {
       "output_type": "stream",
       "stream": "stdout",
       "text": [
        "/Users/ncharass/MyProject/safest-place-in-the-uk/dataset/2013-03/2013-03-south-yorkshire-street.csv\r\n"
       ]
      },
      {
       "output_type": "stream",
       "stream": "stdout",
       "text": [
        "/Users/ncharass/MyProject/safest-place-in-the-uk/dataset/2013-03/2013-03-staffordshire-street.csv\r\n"
       ]
      },
      {
       "output_type": "stream",
       "stream": "stdout",
       "text": [
        "/Users/ncharass/MyProject/safest-place-in-the-uk/dataset/2013-03/2013-03-suffolk-street.csv\r\n",
        "/Users/ncharass/MyProject/safest-place-in-the-uk/dataset/2013-03/2013-03-surrey-street.csv\r\n"
       ]
      },
      {
       "output_type": "stream",
       "stream": "stdout",
       "text": [
        "/Users/ncharass/MyProject/safest-place-in-the-uk/dataset/2013-03/2013-03-sussex-street.csv\r\n"
       ]
      },
      {
       "output_type": "stream",
       "stream": "stdout",
       "text": [
        "/Users/ncharass/MyProject/safest-place-in-the-uk/dataset/2013-03/2013-03-thames-valley-street.csv\r\n"
       ]
      },
      {
       "output_type": "stream",
       "stream": "stdout",
       "text": [
        "/Users/ncharass/MyProject/safest-place-in-the-uk/dataset/2013-03/2013-03-warwickshire-street.csv\r\n",
        "/Users/ncharass/MyProject/safest-place-in-the-uk/dataset/2013-03/2013-03-west-mercia-street.csv\r\n"
       ]
      },
      {
       "output_type": "stream",
       "stream": "stdout",
       "text": [
        "/Users/ncharass/MyProject/safest-place-in-the-uk/dataset/2013-03/2013-03-west-midlands-street.csv\r\n"
       ]
      },
      {
       "output_type": "stream",
       "stream": "stdout",
       "text": [
        "/Users/ncharass/MyProject/safest-place-in-the-uk/dataset/2013-03/2013-03-west-yorkshire-street.csv\r\n"
       ]
      },
      {
       "output_type": "stream",
       "stream": "stdout",
       "text": [
        "/Users/ncharass/MyProject/safest-place-in-the-uk/dataset/2013-03/2013-03-wiltshire-street.csv\r\n"
       ]
      },
      {
       "output_type": "stream",
       "stream": "stdout",
       "text": [
        "\r\n",
        "/Users/ncharass/MyProject/safest-place-in-the-uk/dataset/2013-04:\r\n",
        "/Users/ncharass/MyProject/safest-place-in-the-uk/dataset/2013-04/2013-04-avon-and-somerset-street.csv\r\n"
       ]
      },
      {
       "output_type": "stream",
       "stream": "stdout",
       "text": [
        "/Users/ncharass/MyProject/safest-place-in-the-uk/dataset/2013-04/2013-04-bedfordshire-street.csv\r\n",
        "/Users/ncharass/MyProject/safest-place-in-the-uk/dataset/2013-04/2013-04-btp-street.csv\r\n"
       ]
      },
      {
       "output_type": "stream",
       "stream": "stdout",
       "text": [
        "/Users/ncharass/MyProject/safest-place-in-the-uk/dataset/2013-04/2013-04-cambridgeshire-street.csv\r\n"
       ]
      },
      {
       "output_type": "stream",
       "stream": "stdout",
       "text": [
        "/Users/ncharass/MyProject/safest-place-in-the-uk/dataset/2013-04/2013-04-cheshire-street.csv\r\n",
        "/Users/ncharass/MyProject/safest-place-in-the-uk/dataset/2013-04/2013-04-city-of-london-street.csv\r\n"
       ]
      },
      {
       "output_type": "stream",
       "stream": "stdout",
       "text": [
        "/Users/ncharass/MyProject/safest-place-in-the-uk/dataset/2013-04/2013-04-cleveland-street.csv\r\n",
        "/Users/ncharass/MyProject/safest-place-in-the-uk/dataset/2013-04/2013-04-cumbria-street.csv\r\n"
       ]
      },
      {
       "output_type": "stream",
       "stream": "stdout",
       "text": [
        "/Users/ncharass/MyProject/safest-place-in-the-uk/dataset/2013-04/2013-04-derbyshire-street.csv\r\n",
        "/Users/ncharass/MyProject/safest-place-in-the-uk/dataset/2013-04/2013-04-devon-and-cornwall-street.csv\r\n"
       ]
      },
      {
       "output_type": "stream",
       "stream": "stdout",
       "text": [
        "/Users/ncharass/MyProject/safest-place-in-the-uk/dataset/2013-04/2013-04-dorset-street.csv\r\n"
       ]
      },
      {
       "output_type": "stream",
       "stream": "stdout",
       "text": [
        "/Users/ncharass/MyProject/safest-place-in-the-uk/dataset/2013-04/2013-04-durham-street.csv\r\n",
        "/Users/ncharass/MyProject/safest-place-in-the-uk/dataset/2013-04/2013-04-dyfed-powys-street.csv\r\n"
       ]
      },
      {
       "output_type": "stream",
       "stream": "stdout",
       "text": [
        "/Users/ncharass/MyProject/safest-place-in-the-uk/dataset/2013-04/2013-04-essex-street.csv\r\n"
       ]
      },
      {
       "output_type": "stream",
       "stream": "stdout",
       "text": [
        "/Users/ncharass/MyProject/safest-place-in-the-uk/dataset/2013-04/2013-04-gloucestershire-street.csv\r\n",
        "/Users/ncharass/MyProject/safest-place-in-the-uk/dataset/2013-04/2013-04-greater-manchester-street.csv\r\n"
       ]
      },
      {
       "output_type": "stream",
       "stream": "stdout",
       "text": [
        "/Users/ncharass/MyProject/safest-place-in-the-uk/dataset/2013-04/2013-04-gwent-street.csv\r\n"
       ]
      },
      {
       "output_type": "stream",
       "stream": "stdout",
       "text": [
        "/Users/ncharass/MyProject/safest-place-in-the-uk/dataset/2013-04/2013-04-hampshire-street.csv\r\n"
       ]
      },
      {
       "output_type": "stream",
       "stream": "stdout",
       "text": [
        "/Users/ncharass/MyProject/safest-place-in-the-uk/dataset/2013-04/2013-04-hertfordshire-street.csv\r\n",
        "/Users/ncharass/MyProject/safest-place-in-the-uk/dataset/2013-04/2013-04-humberside-street.csv\r\n"
       ]
      },
      {
       "output_type": "stream",
       "stream": "stdout",
       "text": [
        "/Users/ncharass/MyProject/safest-place-in-the-uk/dataset/2013-04/2013-04-kent-street.csv\r\n"
       ]
      },
      {
       "output_type": "stream",
       "stream": "stdout",
       "text": [
        "/Users/ncharass/MyProject/safest-place-in-the-uk/dataset/2013-04/2013-04-lancashire-street.csv\r\n"
       ]
      },
      {
       "output_type": "stream",
       "stream": "stdout",
       "text": [
        "/Users/ncharass/MyProject/safest-place-in-the-uk/dataset/2013-04/2013-04-leicestershire-street.csv\r\n"
       ]
      },
      {
       "output_type": "stream",
       "stream": "stdout",
       "text": [
        "/Users/ncharass/MyProject/safest-place-in-the-uk/dataset/2013-04/2013-04-lincolnshire-street.csv\r\n"
       ]
      },
      {
       "output_type": "stream",
       "stream": "stdout",
       "text": [
        "/Users/ncharass/MyProject/safest-place-in-the-uk/dataset/2013-04/2013-04-merseyside-street.csv\r\n"
       ]
      },
      {
       "output_type": "stream",
       "stream": "stdout",
       "text": [
        "/Users/ncharass/MyProject/safest-place-in-the-uk/dataset/2013-04/2013-04-metropolitan-street.csv\r\n"
       ]
      },
      {
       "output_type": "stream",
       "stream": "stdout",
       "text": [
        "/Users/ncharass/MyProject/safest-place-in-the-uk/dataset/2013-04/2013-04-norfolk-street.csv\r\n",
        "/Users/ncharass/MyProject/safest-place-in-the-uk/dataset/2013-04/2013-04-north-wales-street.csv\r\n"
       ]
      },
      {
       "output_type": "stream",
       "stream": "stdout",
       "text": [
        "/Users/ncharass/MyProject/safest-place-in-the-uk/dataset/2013-04/2013-04-north-yorkshire-street.csv\r\n"
       ]
      },
      {
       "output_type": "stream",
       "stream": "stdout",
       "text": [
        "/Users/ncharass/MyProject/safest-place-in-the-uk/dataset/2013-04/2013-04-northamptonshire-street.csv\r\n",
        "/Users/ncharass/MyProject/safest-place-in-the-uk/dataset/2013-04/2013-04-northern-ireland-street.csv\r\n"
       ]
      },
      {
       "output_type": "stream",
       "stream": "stdout",
       "text": [
        "/Users/ncharass/MyProject/safest-place-in-the-uk/dataset/2013-04/2013-04-northumbria-street.csv\r\n"
       ]
      },
      {
       "output_type": "stream",
       "stream": "stdout",
       "text": [
        "/Users/ncharass/MyProject/safest-place-in-the-uk/dataset/2013-04/2013-04-nottinghamshire-street.csv\r\n"
       ]
      },
      {
       "output_type": "stream",
       "stream": "stdout",
       "text": [
        "/Users/ncharass/MyProject/safest-place-in-the-uk/dataset/2013-04/2013-04-south-wales-street.csv\r\n"
       ]
      },
      {
       "output_type": "stream",
       "stream": "stdout",
       "text": [
        "/Users/ncharass/MyProject/safest-place-in-the-uk/dataset/2013-04/2013-04-south-yorkshire-street.csv\r\n"
       ]
      },
      {
       "output_type": "stream",
       "stream": "stdout",
       "text": [
        "/Users/ncharass/MyProject/safest-place-in-the-uk/dataset/2013-04/2013-04-staffordshire-street.csv\r\n"
       ]
      },
      {
       "output_type": "stream",
       "stream": "stdout",
       "text": [
        "/Users/ncharass/MyProject/safest-place-in-the-uk/dataset/2013-04/2013-04-suffolk-street.csv\r\n",
        "/Users/ncharass/MyProject/safest-place-in-the-uk/dataset/2013-04/2013-04-surrey-street.csv\r\n"
       ]
      },
      {
       "output_type": "stream",
       "stream": "stdout",
       "text": [
        "/Users/ncharass/MyProject/safest-place-in-the-uk/dataset/2013-04/2013-04-sussex-street.csv\r\n"
       ]
      },
      {
       "output_type": "stream",
       "stream": "stdout",
       "text": [
        "/Users/ncharass/MyProject/safest-place-in-the-uk/dataset/2013-04/2013-04-thames-valley-street.csv\r\n"
       ]
      },
      {
       "output_type": "stream",
       "stream": "stdout",
       "text": [
        "/Users/ncharass/MyProject/safest-place-in-the-uk/dataset/2013-04/2013-04-warwickshire-street.csv\r\n"
       ]
      },
      {
       "output_type": "stream",
       "stream": "stdout",
       "text": [
        "/Users/ncharass/MyProject/safest-place-in-the-uk/dataset/2013-04/2013-04-west-mercia-street.csv\r\n"
       ]
      },
      {
       "output_type": "stream",
       "stream": "stdout",
       "text": [
        "/Users/ncharass/MyProject/safest-place-in-the-uk/dataset/2013-04/2013-04-west-midlands-street.csv\r\n"
       ]
      },
      {
       "output_type": "stream",
       "stream": "stdout",
       "text": [
        "/Users/ncharass/MyProject/safest-place-in-the-uk/dataset/2013-04/2013-04-west-yorkshire-street.csv\r\n"
       ]
      },
      {
       "output_type": "stream",
       "stream": "stdout",
       "text": [
        "/Users/ncharass/MyProject/safest-place-in-the-uk/dataset/2013-04/2013-04-wiltshire-street.csv\r\n"
       ]
      },
      {
       "output_type": "stream",
       "stream": "stdout",
       "text": [
        "\r\n",
        "/Users/ncharass/MyProject/safest-place-in-the-uk/dataset/2013-05:\r\n",
        "/Users/ncharass/MyProject/safest-place-in-the-uk/dataset/2013-05/2013-05-avon-and-somerset-street.csv\r\n"
       ]
      },
      {
       "output_type": "stream",
       "stream": "stdout",
       "text": [
        "/Users/ncharass/MyProject/safest-place-in-the-uk/dataset/2013-05/2013-05-bedfordshire-street.csv\r\n"
       ]
      },
      {
       "output_type": "stream",
       "stream": "stdout",
       "text": [
        "/Users/ncharass/MyProject/safest-place-in-the-uk/dataset/2013-05/2013-05-btp-street.csv\r\n",
        "/Users/ncharass/MyProject/safest-place-in-the-uk/dataset/2013-05/2013-05-cambridgeshire-street.csv\r\n"
       ]
      },
      {
       "output_type": "stream",
       "stream": "stdout",
       "text": [
        "/Users/ncharass/MyProject/safest-place-in-the-uk/dataset/2013-05/2013-05-cheshire-street.csv\r\n"
       ]
      },
      {
       "output_type": "stream",
       "stream": "stdout",
       "text": [
        "/Users/ncharass/MyProject/safest-place-in-the-uk/dataset/2013-05/2013-05-city-of-london-street.csv\r\n",
        "/Users/ncharass/MyProject/safest-place-in-the-uk/dataset/2013-05/2013-05-cleveland-street.csv\r\n",
        "/Users/ncharass/MyProject/safest-place-in-the-uk/dataset/2013-05/2013-05-cumbria-street.csv\r\n"
       ]
      },
      {
       "output_type": "stream",
       "stream": "stdout",
       "text": [
        "/Users/ncharass/MyProject/safest-place-in-the-uk/dataset/2013-05/2013-05-derbyshire-street.csv\r\n"
       ]
      },
      {
       "output_type": "stream",
       "stream": "stdout",
       "text": [
        "/Users/ncharass/MyProject/safest-place-in-the-uk/dataset/2013-05/2013-05-devon-and-cornwall-street.csv\r\n"
       ]
      },
      {
       "output_type": "stream",
       "stream": "stdout",
       "text": [
        "/Users/ncharass/MyProject/safest-place-in-the-uk/dataset/2013-05/2013-05-dorset-street.csv\r\n"
       ]
      },
      {
       "output_type": "stream",
       "stream": "stdout",
       "text": [
        "/Users/ncharass/MyProject/safest-place-in-the-uk/dataset/2013-05/2013-05-durham-street.csv\r\n",
        "/Users/ncharass/MyProject/safest-place-in-the-uk/dataset/2013-05/2013-05-dyfed-powys-street.csv\r\n"
       ]
      },
      {
       "output_type": "stream",
       "stream": "stdout",
       "text": [
        "/Users/ncharass/MyProject/safest-place-in-the-uk/dataset/2013-05/2013-05-essex-street.csv\r\n"
       ]
      },
      {
       "output_type": "stream",
       "stream": "stdout",
       "text": [
        "/Users/ncharass/MyProject/safest-place-in-the-uk/dataset/2013-05/2013-05-gloucestershire-street.csv\r\n"
       ]
      },
      {
       "output_type": "stream",
       "stream": "stdout",
       "text": [
        "/Users/ncharass/MyProject/safest-place-in-the-uk/dataset/2013-05/2013-05-greater-manchester-street.csv\r\n"
       ]
      },
      {
       "output_type": "stream",
       "stream": "stdout",
       "text": [
        "/Users/ncharass/MyProject/safest-place-in-the-uk/dataset/2013-05/2013-05-gwent-street.csv\r\n"
       ]
      },
      {
       "output_type": "stream",
       "stream": "stdout",
       "text": [
        "/Users/ncharass/MyProject/safest-place-in-the-uk/dataset/2013-05/2013-05-hampshire-street.csv\r\n"
       ]
      },
      {
       "output_type": "stream",
       "stream": "stdout",
       "text": [
        "/Users/ncharass/MyProject/safest-place-in-the-uk/dataset/2013-05/2013-05-hertfordshire-street.csv\r\n"
       ]
      },
      {
       "output_type": "stream",
       "stream": "stdout",
       "text": [
        "/Users/ncharass/MyProject/safest-place-in-the-uk/dataset/2013-05/2013-05-humberside-street.csv\r\n"
       ]
      },
      {
       "output_type": "stream",
       "stream": "stdout",
       "text": [
        "/Users/ncharass/MyProject/safest-place-in-the-uk/dataset/2013-05/2013-05-kent-street.csv\r\n"
       ]
      },
      {
       "output_type": "stream",
       "stream": "stdout",
       "text": [
        "/Users/ncharass/MyProject/safest-place-in-the-uk/dataset/2013-05/2013-05-lancashire-street.csv\r\n"
       ]
      },
      {
       "output_type": "stream",
       "stream": "stdout",
       "text": [
        "/Users/ncharass/MyProject/safest-place-in-the-uk/dataset/2013-05/2013-05-leicestershire-street.csv\r\n",
        "/Users/ncharass/MyProject/safest-place-in-the-uk/dataset/2013-05/2013-05-lincolnshire-street.csv\r\n"
       ]
      },
      {
       "output_type": "stream",
       "stream": "stdout",
       "text": [
        "/Users/ncharass/MyProject/safest-place-in-the-uk/dataset/2013-05/2013-05-merseyside-street.csv\r\n"
       ]
      },
      {
       "output_type": "stream",
       "stream": "stdout",
       "text": [
        "/Users/ncharass/MyProject/safest-place-in-the-uk/dataset/2013-05/2013-05-metropolitan-street.csv\r\n"
       ]
      },
      {
       "output_type": "stream",
       "stream": "stdout",
       "text": [
        "/Users/ncharass/MyProject/safest-place-in-the-uk/dataset/2013-05/2013-05-norfolk-street.csv\r\n"
       ]
      },
      {
       "output_type": "stream",
       "stream": "stdout",
       "text": [
        "/Users/ncharass/MyProject/safest-place-in-the-uk/dataset/2013-05/2013-05-north-wales-street.csv\r\n",
        "/Users/ncharass/MyProject/safest-place-in-the-uk/dataset/2013-05/2013-05-north-yorkshire-street.csv\r\n"
       ]
      },
      {
       "output_type": "stream",
       "stream": "stdout",
       "text": [
        "/Users/ncharass/MyProject/safest-place-in-the-uk/dataset/2013-05/2013-05-northamptonshire-street.csv\r\n"
       ]
      },
      {
       "output_type": "stream",
       "stream": "stdout",
       "text": [
        "/Users/ncharass/MyProject/safest-place-in-the-uk/dataset/2013-05/2013-05-northern-ireland-street.csv\r\n"
       ]
      },
      {
       "output_type": "stream",
       "stream": "stdout",
       "text": [
        "/Users/ncharass/MyProject/safest-place-in-the-uk/dataset/2013-05/2013-05-northumbria-street.csv\r\n"
       ]
      },
      {
       "output_type": "stream",
       "stream": "stdout",
       "text": [
        "/Users/ncharass/MyProject/safest-place-in-the-uk/dataset/2013-05/2013-05-nottinghamshire-street.csv\r\n"
       ]
      },
      {
       "output_type": "stream",
       "stream": "stdout",
       "text": [
        "/Users/ncharass/MyProject/safest-place-in-the-uk/dataset/2013-05/2013-05-south-wales-street.csv\r\n"
       ]
      },
      {
       "output_type": "stream",
       "stream": "stdout",
       "text": [
        "/Users/ncharass/MyProject/safest-place-in-the-uk/dataset/2013-05/2013-05-south-yorkshire-street.csv\r\n"
       ]
      },
      {
       "output_type": "stream",
       "stream": "stdout",
       "text": [
        "/Users/ncharass/MyProject/safest-place-in-the-uk/dataset/2013-05/2013-05-staffordshire-street.csv\r\n"
       ]
      },
      {
       "output_type": "stream",
       "stream": "stdout",
       "text": [
        "/Users/ncharass/MyProject/safest-place-in-the-uk/dataset/2013-05/2013-05-suffolk-street.csv\r\n"
       ]
      },
      {
       "output_type": "stream",
       "stream": "stdout",
       "text": [
        "/Users/ncharass/MyProject/safest-place-in-the-uk/dataset/2013-05/2013-05-surrey-street.csv\r\n"
       ]
      },
      {
       "output_type": "stream",
       "stream": "stdout",
       "text": [
        "/Users/ncharass/MyProject/safest-place-in-the-uk/dataset/2013-05/2013-05-sussex-street.csv\r\n"
       ]
      },
      {
       "output_type": "stream",
       "stream": "stdout",
       "text": [
        "/Users/ncharass/MyProject/safest-place-in-the-uk/dataset/2013-05/2013-05-thames-valley-street.csv\r\n"
       ]
      },
      {
       "output_type": "stream",
       "stream": "stdout",
       "text": [
        "/Users/ncharass/MyProject/safest-place-in-the-uk/dataset/2013-05/2013-05-warwickshire-street.csv\r\n"
       ]
      },
      {
       "output_type": "stream",
       "stream": "stdout",
       "text": [
        "/Users/ncharass/MyProject/safest-place-in-the-uk/dataset/2013-05/2013-05-west-mercia-street.csv\r\n",
        "/Users/ncharass/MyProject/safest-place-in-the-uk/dataset/2013-05/2013-05-west-midlands-street.csv\r\n"
       ]
      },
      {
       "output_type": "stream",
       "stream": "stdout",
       "text": [
        "/Users/ncharass/MyProject/safest-place-in-the-uk/dataset/2013-05/2013-05-west-yorkshire-street.csv\r\n"
       ]
      },
      {
       "output_type": "stream",
       "stream": "stdout",
       "text": [
        "/Users/ncharass/MyProject/safest-place-in-the-uk/dataset/2013-05/2013-05-wiltshire-street.csv\r\n",
        "\r\n",
        "/Users/ncharass/MyProject/safest-place-in-the-uk/dataset/2013-06:\r\n",
        "/Users/ncharass/MyProject/safest-place-in-the-uk/dataset/2013-06/2013-06-avon-and-somerset-street.csv\r\n"
       ]
      },
      {
       "output_type": "stream",
       "stream": "stdout",
       "text": [
        "/Users/ncharass/MyProject/safest-place-in-the-uk/dataset/2013-06/2013-06-bedfordshire-street.csv\r\n",
        "/Users/ncharass/MyProject/safest-place-in-the-uk/dataset/2013-06/2013-06-btp-street.csv\r\n"
       ]
      },
      {
       "output_type": "stream",
       "stream": "stdout",
       "text": [
        "/Users/ncharass/MyProject/safest-place-in-the-uk/dataset/2013-06/2013-06-cambridgeshire-street.csv\r\n",
        "/Users/ncharass/MyProject/safest-place-in-the-uk/dataset/2013-06/2013-06-cheshire-street.csv\r\n"
       ]
      },
      {
       "output_type": "stream",
       "stream": "stdout",
       "text": [
        "/Users/ncharass/MyProject/safest-place-in-the-uk/dataset/2013-06/2013-06-city-of-london-street.csv\r\n",
        "/Users/ncharass/MyProject/safest-place-in-the-uk/dataset/2013-06/2013-06-cleveland-street.csv\r\n"
       ]
      },
      {
       "output_type": "stream",
       "stream": "stdout",
       "text": [
        "/Users/ncharass/MyProject/safest-place-in-the-uk/dataset/2013-06/2013-06-cumbria-street.csv\r\n"
       ]
      },
      {
       "output_type": "stream",
       "stream": "stdout",
       "text": [
        "/Users/ncharass/MyProject/safest-place-in-the-uk/dataset/2013-06/2013-06-derbyshire-street.csv\r\n"
       ]
      },
      {
       "output_type": "stream",
       "stream": "stdout",
       "text": [
        "/Users/ncharass/MyProject/safest-place-in-the-uk/dataset/2013-06/2013-06-devon-and-cornwall-street.csv\r\n"
       ]
      },
      {
       "output_type": "stream",
       "stream": "stdout",
       "text": [
        "/Users/ncharass/MyProject/safest-place-in-the-uk/dataset/2013-06/2013-06-dorset-street.csv\r\n",
        "/Users/ncharass/MyProject/safest-place-in-the-uk/dataset/2013-06/2013-06-durham-street.csv\r\n"
       ]
      },
      {
       "output_type": "stream",
       "stream": "stdout",
       "text": [
        "/Users/ncharass/MyProject/safest-place-in-the-uk/dataset/2013-06/2013-06-dyfed-powys-street.csv\r\n"
       ]
      },
      {
       "output_type": "stream",
       "stream": "stdout",
       "text": [
        "/Users/ncharass/MyProject/safest-place-in-the-uk/dataset/2013-06/2013-06-essex-street.csv\r\n"
       ]
      },
      {
       "output_type": "stream",
       "stream": "stdout",
       "text": [
        "/Users/ncharass/MyProject/safest-place-in-the-uk/dataset/2013-06/2013-06-gloucestershire-street.csv\r\n",
        "/Users/ncharass/MyProject/safest-place-in-the-uk/dataset/2013-06/2013-06-greater-manchester-street.csv\r\n"
       ]
      },
      {
       "output_type": "stream",
       "stream": "stdout",
       "text": [
        "/Users/ncharass/MyProject/safest-place-in-the-uk/dataset/2013-06/2013-06-gwent-street.csv\r\n",
        "/Users/ncharass/MyProject/safest-place-in-the-uk/dataset/2013-06/2013-06-hampshire-street.csv\r\n"
       ]
      },
      {
       "output_type": "stream",
       "stream": "stdout",
       "text": [
        "/Users/ncharass/MyProject/safest-place-in-the-uk/dataset/2013-06/2013-06-hertfordshire-street.csv\r\n",
        "/Users/ncharass/MyProject/safest-place-in-the-uk/dataset/2013-06/2013-06-humberside-street.csv\r\n"
       ]
      },
      {
       "output_type": "stream",
       "stream": "stdout",
       "text": [
        "/Users/ncharass/MyProject/safest-place-in-the-uk/dataset/2013-06/2013-06-kent-street.csv\r\n"
       ]
      },
      {
       "output_type": "stream",
       "stream": "stdout",
       "text": [
        "/Users/ncharass/MyProject/safest-place-in-the-uk/dataset/2013-06/2013-06-lancashire-street.csv\r\n"
       ]
      },
      {
       "output_type": "stream",
       "stream": "stdout",
       "text": [
        "/Users/ncharass/MyProject/safest-place-in-the-uk/dataset/2013-06/2013-06-leicestershire-street.csv\r\n",
        "/Users/ncharass/MyProject/safest-place-in-the-uk/dataset/2013-06/2013-06-lincolnshire-street.csv\r\n"
       ]
      },
      {
       "output_type": "stream",
       "stream": "stdout",
       "text": [
        "/Users/ncharass/MyProject/safest-place-in-the-uk/dataset/2013-06/2013-06-merseyside-street.csv\r\n"
       ]
      },
      {
       "output_type": "stream",
       "stream": "stdout",
       "text": [
        "/Users/ncharass/MyProject/safest-place-in-the-uk/dataset/2013-06/2013-06-metropolitan-street.csv\r\n"
       ]
      },
      {
       "output_type": "stream",
       "stream": "stdout",
       "text": [
        "/Users/ncharass/MyProject/safest-place-in-the-uk/dataset/2013-06/2013-06-norfolk-street.csv\r\n"
       ]
      },
      {
       "output_type": "stream",
       "stream": "stdout",
       "text": [
        "/Users/ncharass/MyProject/safest-place-in-the-uk/dataset/2013-06/2013-06-north-wales-street.csv\r\n"
       ]
      },
      {
       "output_type": "stream",
       "stream": "stdout",
       "text": [
        "/Users/ncharass/MyProject/safest-place-in-the-uk/dataset/2013-06/2013-06-north-yorkshire-street.csv\r\n"
       ]
      },
      {
       "output_type": "stream",
       "stream": "stdout",
       "text": [
        "/Users/ncharass/MyProject/safest-place-in-the-uk/dataset/2013-06/2013-06-northamptonshire-street.csv\r\n"
       ]
      },
      {
       "output_type": "stream",
       "stream": "stdout",
       "text": [
        "/Users/ncharass/MyProject/safest-place-in-the-uk/dataset/2013-06/2013-06-northern-ireland-street.csv\r\n"
       ]
      },
      {
       "output_type": "stream",
       "stream": "stdout",
       "text": [
        "/Users/ncharass/MyProject/safest-place-in-the-uk/dataset/2013-06/2013-06-northumbria-street.csv\r\n"
       ]
      },
      {
       "output_type": "stream",
       "stream": "stdout",
       "text": [
        "/Users/ncharass/MyProject/safest-place-in-the-uk/dataset/2013-06/2013-06-nottinghamshire-street.csv\r\n"
       ]
      },
      {
       "output_type": "stream",
       "stream": "stdout",
       "text": [
        "/Users/ncharass/MyProject/safest-place-in-the-uk/dataset/2013-06/2013-06-south-wales-street.csv\r\n"
       ]
      },
      {
       "output_type": "stream",
       "stream": "stdout",
       "text": [
        "/Users/ncharass/MyProject/safest-place-in-the-uk/dataset/2013-06/2013-06-south-yorkshire-street.csv\r\n"
       ]
      },
      {
       "output_type": "stream",
       "stream": "stdout",
       "text": [
        "/Users/ncharass/MyProject/safest-place-in-the-uk/dataset/2013-06/2013-06-staffordshire-street.csv\r\n"
       ]
      },
      {
       "output_type": "stream",
       "stream": "stdout",
       "text": [
        "/Users/ncharass/MyProject/safest-place-in-the-uk/dataset/2013-06/2013-06-suffolk-street.csv\r\n",
        "/Users/ncharass/MyProject/safest-place-in-the-uk/dataset/2013-06/2013-06-surrey-street.csv\r\n"
       ]
      },
      {
       "output_type": "stream",
       "stream": "stdout",
       "text": [
        "/Users/ncharass/MyProject/safest-place-in-the-uk/dataset/2013-06/2013-06-sussex-street.csv\r\n"
       ]
      },
      {
       "output_type": "stream",
       "stream": "stdout",
       "text": [
        "/Users/ncharass/MyProject/safest-place-in-the-uk/dataset/2013-06/2013-06-thames-valley-street.csv\r\n"
       ]
      },
      {
       "output_type": "stream",
       "stream": "stdout",
       "text": [
        "/Users/ncharass/MyProject/safest-place-in-the-uk/dataset/2013-06/2013-06-warwickshire-street.csv\r\n",
        "/Users/ncharass/MyProject/safest-place-in-the-uk/dataset/2013-06/2013-06-west-mercia-street.csv\r\n"
       ]
      },
      {
       "output_type": "stream",
       "stream": "stdout",
       "text": [
        "/Users/ncharass/MyProject/safest-place-in-the-uk/dataset/2013-06/2013-06-west-midlands-street.csv\r\n"
       ]
      },
      {
       "output_type": "stream",
       "stream": "stdout",
       "text": [
        "/Users/ncharass/MyProject/safest-place-in-the-uk/dataset/2013-06/2013-06-west-yorkshire-street.csv\r\n"
       ]
      },
      {
       "output_type": "stream",
       "stream": "stdout",
       "text": [
        "/Users/ncharass/MyProject/safest-place-in-the-uk/dataset/2013-06/2013-06-wiltshire-street.csv\r\n",
        "\r\n",
        "/Users/ncharass/MyProject/safest-place-in-the-uk/dataset/2013-07:\r\n",
        "/Users/ncharass/MyProject/safest-place-in-the-uk/dataset/2013-07/2013-07-avon-and-somerset-street.csv\r\n"
       ]
      },
      {
       "output_type": "stream",
       "stream": "stdout",
       "text": [
        "/Users/ncharass/MyProject/safest-place-in-the-uk/dataset/2013-07/2013-07-bedfordshire-street.csv\r\n"
       ]
      },
      {
       "output_type": "stream",
       "stream": "stdout",
       "text": [
        "/Users/ncharass/MyProject/safest-place-in-the-uk/dataset/2013-07/2013-07-btp-street.csv\r\n",
        "/Users/ncharass/MyProject/safest-place-in-the-uk/dataset/2013-07/2013-07-cambridgeshire-street.csv\r\n"
       ]
      },
      {
       "output_type": "stream",
       "stream": "stdout",
       "text": [
        "/Users/ncharass/MyProject/safest-place-in-the-uk/dataset/2013-07/2013-07-cheshire-street.csv\r\n"
       ]
      },
      {
       "output_type": "stream",
       "stream": "stdout",
       "text": [
        "/Users/ncharass/MyProject/safest-place-in-the-uk/dataset/2013-07/2013-07-city-of-london-street.csv\r\n"
       ]
      },
      {
       "output_type": "stream",
       "stream": "stdout",
       "text": [
        "/Users/ncharass/MyProject/safest-place-in-the-uk/dataset/2013-07/2013-07-cleveland-street.csv\r\n"
       ]
      },
      {
       "output_type": "stream",
       "stream": "stdout",
       "text": [
        "/Users/ncharass/MyProject/safest-place-in-the-uk/dataset/2013-07/2013-07-cumbria-street.csv\r\n"
       ]
      },
      {
       "output_type": "stream",
       "stream": "stdout",
       "text": [
        "/Users/ncharass/MyProject/safest-place-in-the-uk/dataset/2013-07/2013-07-derbyshire-street.csv\r\n"
       ]
      },
      {
       "output_type": "stream",
       "stream": "stdout",
       "text": [
        "/Users/ncharass/MyProject/safest-place-in-the-uk/dataset/2013-07/2013-07-devon-and-cornwall-street.csv\r\n"
       ]
      },
      {
       "output_type": "stream",
       "stream": "stdout",
       "text": [
        "/Users/ncharass/MyProject/safest-place-in-the-uk/dataset/2013-07/2013-07-dorset-street.csv\r\n"
       ]
      },
      {
       "output_type": "stream",
       "stream": "stdout",
       "text": [
        "/Users/ncharass/MyProject/safest-place-in-the-uk/dataset/2013-07/2013-07-durham-street.csv\r\n"
       ]
      },
      {
       "output_type": "stream",
       "stream": "stdout",
       "text": [
        "/Users/ncharass/MyProject/safest-place-in-the-uk/dataset/2013-07/2013-07-dyfed-powys-street.csv\r\n",
        "/Users/ncharass/MyProject/safest-place-in-the-uk/dataset/2013-07/2013-07-essex-street.csv\r\n"
       ]
      },
      {
       "output_type": "stream",
       "stream": "stdout",
       "text": [
        "/Users/ncharass/MyProject/safest-place-in-the-uk/dataset/2013-07/2013-07-gloucestershire-street.csv\r\n"
       ]
      },
      {
       "output_type": "stream",
       "stream": "stdout",
       "text": [
        "/Users/ncharass/MyProject/safest-place-in-the-uk/dataset/2013-07/2013-07-greater-manchester-street.csv\r\n"
       ]
      },
      {
       "output_type": "stream",
       "stream": "stdout",
       "text": [
        "/Users/ncharass/MyProject/safest-place-in-the-uk/dataset/2013-07/2013-07-gwent-street.csv\r\n"
       ]
      },
      {
       "output_type": "stream",
       "stream": "stdout",
       "text": [
        "/Users/ncharass/MyProject/safest-place-in-the-uk/dataset/2013-07/2013-07-hampshire-street.csv\r\n"
       ]
      },
      {
       "output_type": "stream",
       "stream": "stdout",
       "text": [
        "/Users/ncharass/MyProject/safest-place-in-the-uk/dataset/2013-07/2013-07-hertfordshire-street.csv\r\n"
       ]
      },
      {
       "output_type": "stream",
       "stream": "stdout",
       "text": [
        "/Users/ncharass/MyProject/safest-place-in-the-uk/dataset/2013-07/2013-07-humberside-street.csv\r\n"
       ]
      },
      {
       "output_type": "stream",
       "stream": "stdout",
       "text": [
        "/Users/ncharass/MyProject/safest-place-in-the-uk/dataset/2013-07/2013-07-kent-street.csv\r\n"
       ]
      },
      {
       "output_type": "stream",
       "stream": "stdout",
       "text": [
        "/Users/ncharass/MyProject/safest-place-in-the-uk/dataset/2013-07/2013-07-lancashire-street.csv\r\n"
       ]
      },
      {
       "output_type": "stream",
       "stream": "stdout",
       "text": [
        "/Users/ncharass/MyProject/safest-place-in-the-uk/dataset/2013-07/2013-07-leicestershire-street.csv\r\n"
       ]
      },
      {
       "output_type": "stream",
       "stream": "stdout",
       "text": [
        "/Users/ncharass/MyProject/safest-place-in-the-uk/dataset/2013-07/2013-07-lincolnshire-street.csv\r\n"
       ]
      },
      {
       "output_type": "stream",
       "stream": "stdout",
       "text": [
        "/Users/ncharass/MyProject/safest-place-in-the-uk/dataset/2013-07/2013-07-merseyside-street.csv\r\n"
       ]
      },
      {
       "output_type": "stream",
       "stream": "stdout",
       "text": [
        "/Users/ncharass/MyProject/safest-place-in-the-uk/dataset/2013-07/2013-07-metropolitan-street.csv\r\n"
       ]
      },
      {
       "output_type": "stream",
       "stream": "stdout",
       "text": [
        "/Users/ncharass/MyProject/safest-place-in-the-uk/dataset/2013-07/2013-07-norfolk-street.csv\r\n",
        "/Users/ncharass/MyProject/safest-place-in-the-uk/dataset/2013-07/2013-07-north-wales-street.csv\r\n"
       ]
      },
      {
       "output_type": "stream",
       "stream": "stdout",
       "text": [
        "/Users/ncharass/MyProject/safest-place-in-the-uk/dataset/2013-07/2013-07-north-yorkshire-street.csv\r\n"
       ]
      },
      {
       "output_type": "stream",
       "stream": "stdout",
       "text": [
        "/Users/ncharass/MyProject/safest-place-in-the-uk/dataset/2013-07/2013-07-northamptonshire-street.csv\r\n"
       ]
      },
      {
       "output_type": "stream",
       "stream": "stdout",
       "text": [
        "/Users/ncharass/MyProject/safest-place-in-the-uk/dataset/2013-07/2013-07-northern-ireland-street.csv\r\n"
       ]
      },
      {
       "output_type": "stream",
       "stream": "stdout",
       "text": [
        "/Users/ncharass/MyProject/safest-place-in-the-uk/dataset/2013-07/2013-07-northumbria-street.csv\r\n"
       ]
      },
      {
       "output_type": "stream",
       "stream": "stdout",
       "text": [
        "/Users/ncharass/MyProject/safest-place-in-the-uk/dataset/2013-07/2013-07-nottinghamshire-street.csv\r\n"
       ]
      },
      {
       "output_type": "stream",
       "stream": "stdout",
       "text": [
        "/Users/ncharass/MyProject/safest-place-in-the-uk/dataset/2013-07/2013-07-south-wales-street.csv\r\n"
       ]
      },
      {
       "output_type": "stream",
       "stream": "stdout",
       "text": [
        "/Users/ncharass/MyProject/safest-place-in-the-uk/dataset/2013-07/2013-07-south-yorkshire-street.csv\r\n"
       ]
      },
      {
       "output_type": "stream",
       "stream": "stdout",
       "text": [
        "/Users/ncharass/MyProject/safest-place-in-the-uk/dataset/2013-07/2013-07-staffordshire-street.csv\r\n"
       ]
      },
      {
       "output_type": "stream",
       "stream": "stdout",
       "text": [
        "/Users/ncharass/MyProject/safest-place-in-the-uk/dataset/2013-07/2013-07-suffolk-street.csv\r\n"
       ]
      },
      {
       "output_type": "stream",
       "stream": "stdout",
       "text": [
        "/Users/ncharass/MyProject/safest-place-in-the-uk/dataset/2013-07/2013-07-surrey-street.csv\r\n"
       ]
      },
      {
       "output_type": "stream",
       "stream": "stdout",
       "text": [
        "/Users/ncharass/MyProject/safest-place-in-the-uk/dataset/2013-07/2013-07-sussex-street.csv\r\n"
       ]
      },
      {
       "output_type": "stream",
       "stream": "stdout",
       "text": [
        "/Users/ncharass/MyProject/safest-place-in-the-uk/dataset/2013-07/2013-07-thames-valley-street.csv\r\n"
       ]
      },
      {
       "output_type": "stream",
       "stream": "stdout",
       "text": [
        "/Users/ncharass/MyProject/safest-place-in-the-uk/dataset/2013-07/2013-07-warwickshire-street.csv\r\n"
       ]
      },
      {
       "output_type": "stream",
       "stream": "stdout",
       "text": [
        "/Users/ncharass/MyProject/safest-place-in-the-uk/dataset/2013-07/2013-07-west-mercia-street.csv\r\n"
       ]
      },
      {
       "output_type": "stream",
       "stream": "stdout",
       "text": [
        "/Users/ncharass/MyProject/safest-place-in-the-uk/dataset/2013-07/2013-07-west-midlands-street.csv\r\n"
       ]
      },
      {
       "output_type": "stream",
       "stream": "stdout",
       "text": [
        "/Users/ncharass/MyProject/safest-place-in-the-uk/dataset/2013-07/2013-07-west-yorkshire-street.csv\r\n"
       ]
      },
      {
       "output_type": "stream",
       "stream": "stdout",
       "text": [
        "/Users/ncharass/MyProject/safest-place-in-the-uk/dataset/2013-07/2013-07-wiltshire-street.csv\r\n"
       ]
      }
     ],
     "prompt_number": 29
    },
    {
     "cell_type": "raw",
     "metadata": {},
     "source": [
      "All the files will be merged into just one file to /tmp/merged.csv so now we can start exploring the data. It might take time because the file is quite large."
     ]
    },
    {
     "cell_type": "code",
     "collapsed": false,
     "input": [
      "import pandas as pd\n",
      "\n",
      "data = pd.read_csv('/tmp/merged.csv')\n",
      "data.shape\n"
     ],
     "language": "python",
     "metadata": {},
     "outputs": [
      {
       "metadata": {},
       "output_type": "pyout",
       "prompt_number": 1,
       "text": [
        "(3385098, 12)"
       ]
      }
     ],
     "prompt_number": 1
    },
    {
     "cell_type": "raw",
     "metadata": {},
     "source": [
      "It's 3 million rows."
     ]
    },
    {
     "cell_type": "code",
     "collapsed": false,
     "input": [
      "data.head(n=5)"
     ],
     "language": "python",
     "metadata": {},
     "outputs": [
      {
       "html": [
        "<div style=\"max-height:1000px;max-width:1500px;overflow:auto;\">\n",
        "<table border=\"1\" class=\"dataframe\">\n",
        "  <thead>\n",
        "    <tr style=\"text-align: right;\">\n",
        "      <th></th>\n",
        "      <th>Crime ID</th>\n",
        "      <th>Month</th>\n",
        "      <th>Reported by</th>\n",
        "      <th>Falls within</th>\n",
        "      <th>Longitude</th>\n",
        "      <th>Latitude</th>\n",
        "      <th>Location</th>\n",
        "      <th>LSOA code</th>\n",
        "      <th>LSOA name</th>\n",
        "      <th>Crime type</th>\n",
        "      <th>Last outcome category</th>\n",
        "      <th>Context</th>\n",
        "    </tr>\n",
        "  </thead>\n",
        "  <tbody>\n",
        "    <tr>\n",
        "      <th>0</th>\n",
        "      <td>                                               NaN</td>\n",
        "      <td> 2013-01</td>\n",
        "      <td> Avon and Somerset Constabulary</td>\n",
        "      <td> Avon and Somerset Constabulary</td>\n",
        "      <td>-2.513308</td>\n",
        "      <td> 51.409456</td>\n",
        "      <td>                       On or near Charlton Road</td>\n",
        "      <td> E01014399</td>\n",
        "      <td> Bath and North East Somerset 001A</td>\n",
        "      <td> Anti-social behaviour</td>\n",
        "      <td>                            NaN</td>\n",
        "      <td>NaN</td>\n",
        "    </tr>\n",
        "    <tr>\n",
        "      <th>1</th>\n",
        "      <td> 6f7fa8cbee02eb1b4084c495cea9183a1241bd9d9bef3c...</td>\n",
        "      <td> 2013-01</td>\n",
        "      <td> Avon and Somerset Constabulary</td>\n",
        "      <td> Avon and Somerset Constabulary</td>\n",
        "      <td>-2.511761</td>\n",
        "      <td> 51.409966</td>\n",
        "      <td>                    On or near Caernarvon Close</td>\n",
        "      <td> E01014399</td>\n",
        "      <td> Bath and North East Somerset 001A</td>\n",
        "      <td>              Burglary</td>\n",
        "      <td>            Under investigation</td>\n",
        "      <td>NaN</td>\n",
        "    </tr>\n",
        "    <tr>\n",
        "      <th>2</th>\n",
        "      <td> c7e6d0e19c6ea0318e14ec92093fe5f7b0190f5cee7357...</td>\n",
        "      <td> 2013-01</td>\n",
        "      <td> Avon and Somerset Constabulary</td>\n",
        "      <td> Avon and Somerset Constabulary</td>\n",
        "      <td>-2.494870</td>\n",
        "      <td> 51.422276</td>\n",
        "      <td>        On or near Conference/Exhibition Centre</td>\n",
        "      <td> E01014399</td>\n",
        "      <td> Bath and North East Somerset 001A</td>\n",
        "      <td>           Other theft</td>\n",
        "      <td> No further action at this time</td>\n",
        "      <td>NaN</td>\n",
        "    </tr>\n",
        "    <tr>\n",
        "      <th>3</th>\n",
        "      <td>                                               NaN</td>\n",
        "      <td> 2013-01</td>\n",
        "      <td> Avon and Somerset Constabulary</td>\n",
        "      <td> Avon and Somerset Constabulary</td>\n",
        "      <td>-2.499922</td>\n",
        "      <td> 51.417373</td>\n",
        "      <td> On or near Further/Higher Educational Building</td>\n",
        "      <td> E01014400</td>\n",
        "      <td> Bath and North East Somerset 001B</td>\n",
        "      <td> Anti-social behaviour</td>\n",
        "      <td>                            NaN</td>\n",
        "      <td>NaN</td>\n",
        "    </tr>\n",
        "    <tr>\n",
        "      <th>4</th>\n",
        "      <td>                                               NaN</td>\n",
        "      <td> 2013-01</td>\n",
        "      <td> Avon and Somerset Constabulary</td>\n",
        "      <td> Avon and Somerset Constabulary</td>\n",
        "      <td>-2.510427</td>\n",
        "      <td> 51.423181</td>\n",
        "      <td>                         On or near Durley Lane</td>\n",
        "      <td> E01014400</td>\n",
        "      <td> Bath and North East Somerset 001B</td>\n",
        "      <td> Anti-social behaviour</td>\n",
        "      <td>                            NaN</td>\n",
        "      <td>NaN</td>\n",
        "    </tr>\n",
        "  </tbody>\n",
        "</table>\n",
        "</div>"
       ],
       "metadata": {},
       "output_type": "pyout",
       "prompt_number": 3,
       "text": [
        "                                            Crime ID    Month  \\\n",
        "0                                                NaN  2013-01   \n",
        "1  6f7fa8cbee02eb1b4084c495cea9183a1241bd9d9bef3c...  2013-01   \n",
        "2  c7e6d0e19c6ea0318e14ec92093fe5f7b0190f5cee7357...  2013-01   \n",
        "3                                                NaN  2013-01   \n",
        "4                                                NaN  2013-01   \n",
        "\n",
        "                      Reported by                    Falls within  Longitude  \\\n",
        "0  Avon and Somerset Constabulary  Avon and Somerset Constabulary  -2.513308   \n",
        "1  Avon and Somerset Constabulary  Avon and Somerset Constabulary  -2.511761   \n",
        "2  Avon and Somerset Constabulary  Avon and Somerset Constabulary  -2.494870   \n",
        "3  Avon and Somerset Constabulary  Avon and Somerset Constabulary  -2.499922   \n",
        "4  Avon and Somerset Constabulary  Avon and Somerset Constabulary  -2.510427   \n",
        "\n",
        "    Latitude                                        Location  LSOA code  \\\n",
        "0  51.409456                        On or near Charlton Road  E01014399   \n",
        "1  51.409966                     On or near Caernarvon Close  E01014399   \n",
        "2  51.422276         On or near Conference/Exhibition Centre  E01014399   \n",
        "3  51.417373  On or near Further/Higher Educational Building  E01014400   \n",
        "4  51.423181                          On or near Durley Lane  E01014400   \n",
        "\n",
        "                           LSOA name             Crime type  \\\n",
        "0  Bath and North East Somerset 001A  Anti-social behaviour   \n",
        "1  Bath and North East Somerset 001A               Burglary   \n",
        "2  Bath and North East Somerset 001A            Other theft   \n",
        "3  Bath and North East Somerset 001B  Anti-social behaviour   \n",
        "4  Bath and North East Somerset 001B  Anti-social behaviour   \n",
        "\n",
        "            Last outcome category  Context  \n",
        "0                             NaN      NaN  \n",
        "1             Under investigation      NaN  \n",
        "2  No further action at this time      NaN  \n",
        "3                             NaN      NaN  \n",
        "4                             NaN      NaN  "
       ]
      }
     ],
     "prompt_number": 3
    },
    {
     "cell_type": "raw",
     "metadata": {},
     "source": [
      "Now, what about we find out where is the saftest place by grouping 'Location' and 'Reported by' and see if where has been reported the least."
     ]
    },
    {
     "cell_type": "code",
     "collapsed": false,
     "input": [
      "data.groupby(['Location','Reported by']).size().order()"
     ],
     "language": "python",
     "metadata": {},
     "outputs": [
      {
       "metadata": {},
       "output_type": "pyout",
       "prompt_number": 27,
       "text": [
        "Location                   Reported by                 \n",
        "On or near 13Th Avenue     Surrey Police                   1\n",
        "On or near 15Th Avenue     Humberside Police               1\n",
        "On or near 16Th Avenue     Surrey Police                   1\n",
        "On or near 18Th Avenue     Humberside Police               1\n",
        "On or near 1St Avenue      North Yorkshire Police          1\n",
        "On or near 1St Street      Hampshire Constabulary          1\n",
        "On or near 4Th Avenue      Gloucestershire Constabulary    1\n",
        "On or near 8Th Avenue      Gloucestershire Constabulary    1\n",
        "On or near A P Ellis Road  Gloucestershire Constabulary    1\n",
        "On or near A1              West Yorkshire Police           1\n",
        "On or near A1(M)           Nottinghamshire Police          1\n",
        "On or near A1000           Hertfordshire Constabulary      1\n",
        "On or near A1042           Cleveland Police                1\n",
        "On or near A1067           Norfolk Constabulary            1\n",
        "On or near A1077           Humberside Police               1\n",
        "...\n",
        "On or near Parking Area            Greater Manchester Police              4609\n",
        "On or near Supermarket             Thames Valley Police                   4792\n",
        "                                   West Yorkshire Police                  4946\n",
        "On or near Pedestrian Subway       Metropolitan Police                    5273\n",
        "On or near Shopping Area           West Midlands Police                   5335\n",
        "On or near Supermarket             Hampshire Constabulary                 6311\n",
        "No Location                        Avon and Somerset Constabulary         6470\n",
        "On or near Sports/Recreation Area  Metropolitan Police                    6643\n",
        "No Location                        Metropolitan Police                    6888\n",
        "On or near Nightclub               Metropolitan Police                    9501\n",
        "On or near                         Police Service of Northern Ireland    12626\n",
        "On or near Petrol Station          Metropolitan Police                   12789\n",
        "On or near Shopping Area           Metropolitan Police                   13199\n",
        "On or near Parking Area            Metropolitan Police                   15149\n",
        "On or near Supermarket             Metropolitan Police                   21978\n",
        "Length: 382312, dtype: int64"
       ]
      }
     ],
     "prompt_number": 27
    },
    {
     "cell_type": "raw",
     "metadata": {},
     "source": [
      "No suprise here that 'Metropolitan Police' has the most cases and it looks like on or near Supermaket has been reported the most."
     ]
    }
   ],
   "metadata": {}
  }
 ]
}